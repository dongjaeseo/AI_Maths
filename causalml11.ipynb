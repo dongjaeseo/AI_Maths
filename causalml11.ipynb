{
  "nbformat": 4,
  "nbformat_minor": 0,
  "metadata": {
    "colab": {
      "private_outputs": true,
      "provenance": [],
      "machine_shape": "hm",
      "gpuType": "A100",
      "authorship_tag": "ABX9TyNyrM6W2Vk2zd7+nGr/bsjc",
      "include_colab_link": true
    },
    "kernelspec": {
      "name": "python3",
      "display_name": "Python 3"
    },
    "language_info": {
      "name": "python"
    },
    "accelerator": "GPU"
  },
  "cells": [
    {
      "cell_type": "markdown",
      "metadata": {
        "id": "view-in-github",
        "colab_type": "text"
      },
      "source": [
        "<a href=\"https://colab.research.google.com/github/dongjaeseo/AI_Maths/blob/main/causalml11.ipynb\" target=\"_parent\"><img src=\"https://colab.research.google.com/assets/colab-badge.svg\" alt=\"Open In Colab\"/></a>"
      ]
    },
    {
      "cell_type": "code",
      "source": [
        "from google.colab import drive\n",
        "drive.mount('/content/drive')"
      ],
      "metadata": {
        "id": "1fYEujMPPIG4"
      },
      "execution_count": null,
      "outputs": []
    },
    {
      "cell_type": "code",
      "source": [
        "!cd drive/MyDrive"
      ],
      "metadata": {
        "id": "JOkGt0xcVAPy"
      },
      "execution_count": null,
      "outputs": []
    },
    {
      "cell_type": "code",
      "source": [
        "!git clone https://github.com/shshen-closer/KeCoin_USTC_CausalML_Challenge.git drive/MyDrive/KeCoin_USTC_CausalML_Challenge"
      ],
      "metadata": {
        "id": "2psGLsJHUpoh"
      },
      "execution_count": null,
      "outputs": []
    },
    {
      "cell_type": "code",
      "source": [
        "%cd drive/MyDrive/KeCoin_USTC_CausalML_Challenge/task1"
      ],
      "metadata": {
        "id": "cBgEcmAnUwgL"
      },
      "execution_count": null,
      "outputs": []
    },
    {
      "cell_type": "code",
      "source": [
        "!mkdir results"
      ],
      "metadata": {
        "id": "M-XaOk6gftGp"
      },
      "execution_count": null,
      "outputs": []
    },
    {
      "cell_type": "code",
      "source": [
        "!python test_all_private.py runs_9_3\n",
        "!python meaning.py"
      ],
      "metadata": {
        "id": "MHF8X3CzZQ3D"
      },
      "execution_count": null,
      "outputs": []
    },
    {
      "cell_type": "code",
      "source": [],
      "metadata": {
        "id": "uN2IVOlKZTaL"
      },
      "execution_count": null,
      "outputs": []
    },
    {
      "cell_type": "code",
      "source": [
        "import numpy as np\n",
        "k = np.load('adj_matrix.npy')\n",
        "print(k.shape)\n",
        "print(k[0])"
      ],
      "metadata": {
        "id": "D08M5B0KZX16"
      },
      "execution_count": null,
      "outputs": []
    },
    {
      "cell_type": "code",
      "source": [
        "import os\n",
        "os.getcwd()\n",
        "import pandas as pd\n",
        "import numpy as np"
      ],
      "metadata": {
        "id": "kNn4LytE9Ftr"
      },
      "execution_count": null,
      "outputs": []
    },
    {
      "cell_type": "code",
      "source": [
        "idx = 0\n",
        "data_index = str(idx)\n",
        "\n",
        "all_data =  pd.read_csv('../Task_1_dataset/Task_1_data_private_csv/dataset_' + data_index +'/train.csv', encoding = \"ISO-8859-1\", low_memory=False,header=None)\n",
        "\n",
        "array_data = np.array(all_data)"
      ],
      "metadata": {
        "id": "jQEdxKkI9KeM"
      },
      "execution_count": null,
      "outputs": []
    },
    {
      "cell_type": "code",
      "source": [
        "truth = np.load('../Task_1_dataset/Task_1_data_local_dev_csv/adj_matrix.npy', allow_pickle=True)"
      ],
      "metadata": {
        "id": "RX7_spbLcgg_"
      },
      "execution_count": null,
      "outputs": []
    },
    {
      "cell_type": "code",
      "source": [
        "print(truth.shape)\n",
        "label = int(truth[int(1)][0][0])\n",
        "print(label)"
      ],
      "metadata": {
        "id": "f2FdyorEchhK"
      },
      "execution_count": null,
      "outputs": []
    },
    {
      "cell_type": "code",
      "source": [
        "test_students = []\n",
        "\n",
        "iii = 0\n",
        "    #print(iii)\n",
        "temp = array_data[iii: iii+400]\n",
        "\n",
        "temp2 = []\n",
        "for ddd in temp:\n",
        "    ddd = ddd[2:]  # construct0, construct1, ....\n",
        "    fff = np.zeros(50)\n",
        "    for ddds in range(50):\n",
        "        theone = int(ddd[ddds]*1000) # multiply 1000 to each construct value\n",
        "        fff[ddds] = theone\n",
        "    temp2.append(fff)\n",
        "temp2 = np.array(temp2, dtype= np.int16) # temp2 = construct values *1000\n",
        "\n",
        "print(temp2.shape)\n",
        "c3 = temp[:,1] # which construct at that timestep\n",
        "c3 = [int(jjj) for jjj in c3] # convert to integer\n",
        "\n",
        "for x in range(50):\n",
        "    for y in range(50):\n",
        "        c1 = temp2[:,x] # xth column\n",
        "        c2 = temp2[:,y] # yth column\n",
        "\n",
        "        c11 = []\n",
        "        c22 = []\n",
        "        for jjj in c3: # for each construct value at timestep\n",
        "            if jjj == x: # if jjj ==\n",
        "                c11.append(1)\n",
        "            else:\n",
        "                c11.append(0)\n",
        "            if jjj == y:\n",
        "                c22.append(1)\n",
        "            else:\n",
        "                c22.append(0)\n",
        "        c11 = np.array(c11, dtype= np.int16)\n",
        "        c22 = np.array(c22, dtype= np.int16)\n",
        "        test_students.append([c1, c2,c11, c22])\n",
        ""
      ],
      "metadata": {
        "id": "WjSwzfbZ9s7a"
      },
      "execution_count": null,
      "outputs": []
    },
    {
      "cell_type": "code",
      "source": [
        "print(np.array(test_students).shape)"
      ],
      "metadata": {
        "id": "37iS8h6eAGeV"
      },
      "execution_count": null,
      "outputs": []
    }
  ]
}