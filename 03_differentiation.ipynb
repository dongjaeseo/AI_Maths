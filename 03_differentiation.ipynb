{
  "nbformat": 4,
  "nbformat_minor": 0,
  "metadata": {
    "colab": {
      "private_outputs": true,
      "provenance": [],
      "authorship_tag": "ABX9TyOqVzzuhXUuvEkCXfuDpgu+",
      "include_colab_link": true
    },
    "kernelspec": {
      "name": "python3",
      "display_name": "Python 3"
    },
    "language_info": {
      "name": "python"
    }
  },
  "cells": [
    {
      "cell_type": "markdown",
      "metadata": {
        "id": "view-in-github",
        "colab_type": "text"
      },
      "source": [
        "<a href=\"https://colab.research.google.com/github/dongjaeseo/AI_Maths/blob/main/03_differentiation.ipynb\" target=\"_parent\"><img src=\"https://colab.research.google.com/assets/colab-badge.svg\" alt=\"Open In Colab\"/></a>"
      ]
    },
    {
      "cell_type": "markdown",
      "source": [
        "Differentiation\n",
        "\n",
        "Instantaneous rate of change\n",
        "\n",
        "In graphs, defined as instantaneous slope of the graph\n",
        "\n",
        "=============================\n",
        "\n",
        "\n",
        "1) x^n -> nx^(n-1)\n",
        "\n",
        "2) e^x -> e^x\n",
        "\n",
        "3) ln x -> 1 / x\n",
        "\n",
        "4) loga (x) -> 1 / (ln a * x)"
      ],
      "metadata": {
        "id": "YWmXZ7fAg46S"
      }
    }
  ]
}