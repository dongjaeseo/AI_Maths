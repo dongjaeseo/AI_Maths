{
  "nbformat": 4,
  "nbformat_minor": 0,
  "metadata": {
    "colab": {
      "provenance": [],
      "mount_file_id": "1__oBPRAgdXpPlOm9YqSAkx52Ilvy631L",
      "authorship_tag": "ABX9TyMl+Z4aRDEjKQjucb90TGvJ",
      "include_colab_link": true
    },
    "kernelspec": {
      "name": "python3",
      "display_name": "Python 3"
    },
    "language_info": {
      "name": "python"
    },
    "accelerator": "GPU",
    "gpuClass": "standard"
  },
  "cells": [
    {
      "cell_type": "markdown",
      "metadata": {
        "id": "view-in-github",
        "colab_type": "text"
      },
      "source": [
        "<a href=\"https://colab.research.google.com/github/dongjaeseo/AI_Maths/blob/main/ed5011_data.ipynb\" target=\"_parent\"><img src=\"https://colab.research.google.com/assets/colab-badge.svg\" alt=\"Open In Colab\"/></a>"
      ]
    },
    {
      "cell_type": "code",
      "execution_count": 2,
      "metadata": {
        "id": "O3D5alDK-Elg"
      },
      "outputs": [],
      "source": [
        "import numpy as np\n",
        "import pandas as pd\n",
        "import tensorflow as tf\n",
        "import tensorflow.keras.backend as K\n",
        "from tensorflow.keras.models import Sequential, Model\n",
        "from tensorflow.keras.layers import Dense, Flatten, Dropout, LSTM, Input, Normalization\n",
        "from sklearn.model_selection import train_test_split"
      ]
    },
    {
      "cell_type": "code",
      "source": [
        "device_name = tf.test.gpu_device_name()\n",
        "if device_name != '/device:GPU:0':\n",
        "  raise SystemError('GPU device not found')\n",
        "print('Found GPU at: {}'.format(device_name))"
      ],
      "metadata": {
        "id": "GvgTKcKhWiCA",
        "colab": {
          "base_uri": "https://localhost:8080/"
        },
        "outputId": "46bfc950-ee3c-497e-ee00-a0b6204aa7b5"
      },
      "execution_count": 3,
      "outputs": [
        {
          "output_type": "stream",
          "name": "stdout",
          "text": [
            "Found GPU at: /device:GPU:0\n"
          ]
        }
      ]
    },
    {
      "cell_type": "code",
      "source": [
        "df = pd.read_csv('/content/drive/MyDrive/ed5011/B0005/data/001_B0005_charge.csv', header = None, names = ['Voltage_measured','Current_measured','Temperature','Current_charger','Voltage_charger','Time'])"
      ],
      "metadata": {
        "id": "B1zQxjeG-ddu"
      },
      "execution_count": 4,
      "outputs": []
    },
    {
      "cell_type": "code",
      "source": [
        "print(df)"
      ],
      "metadata": {
        "id": "CL6BfGY0-dx2",
        "colab": {
          "base_uri": "https://localhost:8080/"
        },
        "outputId": "8bb18939-d575-4e31-854a-75b7c407bd2f"
      },
      "execution_count": 5,
      "outputs": [
        {
          "output_type": "stream",
          "name": "stdout",
          "text": [
            "     Voltage_measured  Current_measured  Temperature  Current_charger  \\\n",
            "0            3.873017         -0.001201    24.655358            0.000   \n",
            "1            3.479394         -4.030268    24.666480           -4.036   \n",
            "2            4.000588          1.512731    24.675394            1.500   \n",
            "3            4.012395          1.509063    24.693865            1.500   \n",
            "4            4.019708          1.511318    24.705069            1.500   \n",
            "..                ...               ...          ...              ...   \n",
            "784          4.190822         -0.003391    24.539397            0.000   \n",
            "785          4.191299         -0.000942    24.532498            0.000   \n",
            "786          4.191388         -0.000351    24.518673            0.000   \n",
            "787          4.191453         -0.001856    24.514363            0.000   \n",
            "788          4.191078         -0.002892    24.507040            0.000   \n",
            "\n",
            "     Voltage_charger      Time  \n",
            "0              0.003     0.000  \n",
            "1              1.570     2.532  \n",
            "2              4.726     5.500  \n",
            "3              4.742     8.344  \n",
            "4              4.753    11.125  \n",
            "..               ...       ...  \n",
            "784            0.003  7525.782  \n",
            "785            0.003  7543.797  \n",
            "786            0.003  7561.750  \n",
            "787            0.003  7579.813  \n",
            "788            0.003  7597.875  \n",
            "\n",
            "[789 rows x 6 columns]\n"
          ]
        }
      ]
    },
    {
      "cell_type": "code",
      "source": [
        "df2 = pd.read_csv('/content/drive/MyDrive/ed5011/B0005/data/002_B0005_discharge.csv', header = None, names = ['Voltage_measured','Current_measured','Temperature','Current_charger','Voltage_charger','Time'])"
      ],
      "metadata": {
        "id": "NrZFH4OEQWHJ"
      },
      "execution_count": 6,
      "outputs": []
    },
    {
      "cell_type": "code",
      "source": [
        "print(df2)\n"
      ],
      "metadata": {
        "id": "grreyFY1QdT3",
        "colab": {
          "base_uri": "https://localhost:8080/"
        },
        "outputId": "a734a0e1-cf7c-41fa-9b76-22350918c9fe"
      },
      "execution_count": 7,
      "outputs": [
        {
          "output_type": "stream",
          "name": "stdout",
          "text": [
            "     Voltage_measured  Current_measured  Temperature  Current_charger  \\\n",
            "0            4.191492         -0.004902    24.330034          -0.0006   \n",
            "1            4.190749         -0.001478    24.325993          -0.0006   \n",
            "2            3.974871         -2.012528    24.389085          -1.9982   \n",
            "3            3.951717         -2.013979    24.544752          -1.9982   \n",
            "4            3.934352         -2.011144    24.731385          -1.9982   \n",
            "..                ...               ...          ...              ...   \n",
            "192          3.258705         -0.001513    35.296711          -0.0006   \n",
            "193          3.264121         -0.001532    35.021738          -0.0006   \n",
            "194          3.269030         -0.000406    34.754871          -0.0006   \n",
            "195          3.273207         -0.000388    34.490078          -0.0006   \n",
            "196          3.277170         -0.006528    34.230853          -0.0006   \n",
            "\n",
            "     Voltage_charger      Time  \n",
            "0              0.000     0.000  \n",
            "1              4.206    16.781  \n",
            "2              3.062    35.703  \n",
            "3              3.030    53.781  \n",
            "4              3.011    71.922  \n",
            "..               ...       ...  \n",
            "192            0.000  3608.594  \n",
            "193            0.000  3628.953  \n",
            "194            0.000  3649.375  \n",
            "195            0.000  3669.875  \n",
            "196            0.000  3690.234  \n",
            "\n",
            "[197 rows x 6 columns]\n"
          ]
        }
      ]
    },
    {
      "cell_type": "code",
      "source": [
        "df3 = pd.concat([df, df2])"
      ],
      "metadata": {
        "id": "552Qh_FwQh-P"
      },
      "execution_count": 8,
      "outputs": []
    },
    {
      "cell_type": "code",
      "source": [
        "df3"
      ],
      "metadata": {
        "id": "Lb-GhsvbRjKJ",
        "colab": {
          "base_uri": "https://localhost:8080/",
          "height": 424
        },
        "outputId": "2187c942-f2b4-492a-c238-b3e0a44552c7"
      },
      "execution_count": 9,
      "outputs": [
        {
          "output_type": "execute_result",
          "data": {
            "text/plain": [
              "     Voltage_measured  Current_measured  Temperature  Current_charger  \\\n",
              "0            3.873017         -0.001201    24.655358           0.0000   \n",
              "1            3.479394         -4.030268    24.666480          -4.0360   \n",
              "2            4.000588          1.512731    24.675394           1.5000   \n",
              "3            4.012395          1.509063    24.693865           1.5000   \n",
              "4            4.019708          1.511318    24.705069           1.5000   \n",
              "..                ...               ...          ...              ...   \n",
              "192          3.258705         -0.001513    35.296711          -0.0006   \n",
              "193          3.264121         -0.001532    35.021738          -0.0006   \n",
              "194          3.269030         -0.000406    34.754871          -0.0006   \n",
              "195          3.273207         -0.000388    34.490078          -0.0006   \n",
              "196          3.277170         -0.006528    34.230853          -0.0006   \n",
              "\n",
              "     Voltage_charger      Time  \n",
              "0              0.003     0.000  \n",
              "1              1.570     2.532  \n",
              "2              4.726     5.500  \n",
              "3              4.742     8.344  \n",
              "4              4.753    11.125  \n",
              "..               ...       ...  \n",
              "192            0.000  3608.594  \n",
              "193            0.000  3628.953  \n",
              "194            0.000  3649.375  \n",
              "195            0.000  3669.875  \n",
              "196            0.000  3690.234  \n",
              "\n",
              "[986 rows x 6 columns]"
            ],
            "text/html": [
              "\n",
              "  <div id=\"df-8a00f26b-1cc8-4df5-9e5e-0726245d9393\">\n",
              "    <div class=\"colab-df-container\">\n",
              "      <div>\n",
              "<style scoped>\n",
              "    .dataframe tbody tr th:only-of-type {\n",
              "        vertical-align: middle;\n",
              "    }\n",
              "\n",
              "    .dataframe tbody tr th {\n",
              "        vertical-align: top;\n",
              "    }\n",
              "\n",
              "    .dataframe thead th {\n",
              "        text-align: right;\n",
              "    }\n",
              "</style>\n",
              "<table border=\"1\" class=\"dataframe\">\n",
              "  <thead>\n",
              "    <tr style=\"text-align: right;\">\n",
              "      <th></th>\n",
              "      <th>Voltage_measured</th>\n",
              "      <th>Current_measured</th>\n",
              "      <th>Temperature</th>\n",
              "      <th>Current_charger</th>\n",
              "      <th>Voltage_charger</th>\n",
              "      <th>Time</th>\n",
              "    </tr>\n",
              "  </thead>\n",
              "  <tbody>\n",
              "    <tr>\n",
              "      <th>0</th>\n",
              "      <td>3.873017</td>\n",
              "      <td>-0.001201</td>\n",
              "      <td>24.655358</td>\n",
              "      <td>0.0000</td>\n",
              "      <td>0.003</td>\n",
              "      <td>0.000</td>\n",
              "    </tr>\n",
              "    <tr>\n",
              "      <th>1</th>\n",
              "      <td>3.479394</td>\n",
              "      <td>-4.030268</td>\n",
              "      <td>24.666480</td>\n",
              "      <td>-4.0360</td>\n",
              "      <td>1.570</td>\n",
              "      <td>2.532</td>\n",
              "    </tr>\n",
              "    <tr>\n",
              "      <th>2</th>\n",
              "      <td>4.000588</td>\n",
              "      <td>1.512731</td>\n",
              "      <td>24.675394</td>\n",
              "      <td>1.5000</td>\n",
              "      <td>4.726</td>\n",
              "      <td>5.500</td>\n",
              "    </tr>\n",
              "    <tr>\n",
              "      <th>3</th>\n",
              "      <td>4.012395</td>\n",
              "      <td>1.509063</td>\n",
              "      <td>24.693865</td>\n",
              "      <td>1.5000</td>\n",
              "      <td>4.742</td>\n",
              "      <td>8.344</td>\n",
              "    </tr>\n",
              "    <tr>\n",
              "      <th>4</th>\n",
              "      <td>4.019708</td>\n",
              "      <td>1.511318</td>\n",
              "      <td>24.705069</td>\n",
              "      <td>1.5000</td>\n",
              "      <td>4.753</td>\n",
              "      <td>11.125</td>\n",
              "    </tr>\n",
              "    <tr>\n",
              "      <th>...</th>\n",
              "      <td>...</td>\n",
              "      <td>...</td>\n",
              "      <td>...</td>\n",
              "      <td>...</td>\n",
              "      <td>...</td>\n",
              "      <td>...</td>\n",
              "    </tr>\n",
              "    <tr>\n",
              "      <th>192</th>\n",
              "      <td>3.258705</td>\n",
              "      <td>-0.001513</td>\n",
              "      <td>35.296711</td>\n",
              "      <td>-0.0006</td>\n",
              "      <td>0.000</td>\n",
              "      <td>3608.594</td>\n",
              "    </tr>\n",
              "    <tr>\n",
              "      <th>193</th>\n",
              "      <td>3.264121</td>\n",
              "      <td>-0.001532</td>\n",
              "      <td>35.021738</td>\n",
              "      <td>-0.0006</td>\n",
              "      <td>0.000</td>\n",
              "      <td>3628.953</td>\n",
              "    </tr>\n",
              "    <tr>\n",
              "      <th>194</th>\n",
              "      <td>3.269030</td>\n",
              "      <td>-0.000406</td>\n",
              "      <td>34.754871</td>\n",
              "      <td>-0.0006</td>\n",
              "      <td>0.000</td>\n",
              "      <td>3649.375</td>\n",
              "    </tr>\n",
              "    <tr>\n",
              "      <th>195</th>\n",
              "      <td>3.273207</td>\n",
              "      <td>-0.000388</td>\n",
              "      <td>34.490078</td>\n",
              "      <td>-0.0006</td>\n",
              "      <td>0.000</td>\n",
              "      <td>3669.875</td>\n",
              "    </tr>\n",
              "    <tr>\n",
              "      <th>196</th>\n",
              "      <td>3.277170</td>\n",
              "      <td>-0.006528</td>\n",
              "      <td>34.230853</td>\n",
              "      <td>-0.0006</td>\n",
              "      <td>0.000</td>\n",
              "      <td>3690.234</td>\n",
              "    </tr>\n",
              "  </tbody>\n",
              "</table>\n",
              "<p>986 rows × 6 columns</p>\n",
              "</div>\n",
              "      <button class=\"colab-df-convert\" onclick=\"convertToInteractive('df-8a00f26b-1cc8-4df5-9e5e-0726245d9393')\"\n",
              "              title=\"Convert this dataframe to an interactive table.\"\n",
              "              style=\"display:none;\">\n",
              "        \n",
              "  <svg xmlns=\"http://www.w3.org/2000/svg\" height=\"24px\"viewBox=\"0 0 24 24\"\n",
              "       width=\"24px\">\n",
              "    <path d=\"M0 0h24v24H0V0z\" fill=\"none\"/>\n",
              "    <path d=\"M18.56 5.44l.94 2.06.94-2.06 2.06-.94-2.06-.94-.94-2.06-.94 2.06-2.06.94zm-11 1L8.5 8.5l.94-2.06 2.06-.94-2.06-.94L8.5 2.5l-.94 2.06-2.06.94zm10 10l.94 2.06.94-2.06 2.06-.94-2.06-.94-.94-2.06-.94 2.06-2.06.94z\"/><path d=\"M17.41 7.96l-1.37-1.37c-.4-.4-.92-.59-1.43-.59-.52 0-1.04.2-1.43.59L10.3 9.45l-7.72 7.72c-.78.78-.78 2.05 0 2.83L4 21.41c.39.39.9.59 1.41.59.51 0 1.02-.2 1.41-.59l7.78-7.78 2.81-2.81c.8-.78.8-2.07 0-2.86zM5.41 20L4 18.59l7.72-7.72 1.47 1.35L5.41 20z\"/>\n",
              "  </svg>\n",
              "      </button>\n",
              "      \n",
              "  <style>\n",
              "    .colab-df-container {\n",
              "      display:flex;\n",
              "      flex-wrap:wrap;\n",
              "      gap: 12px;\n",
              "    }\n",
              "\n",
              "    .colab-df-convert {\n",
              "      background-color: #E8F0FE;\n",
              "      border: none;\n",
              "      border-radius: 50%;\n",
              "      cursor: pointer;\n",
              "      display: none;\n",
              "      fill: #1967D2;\n",
              "      height: 32px;\n",
              "      padding: 0 0 0 0;\n",
              "      width: 32px;\n",
              "    }\n",
              "\n",
              "    .colab-df-convert:hover {\n",
              "      background-color: #E2EBFA;\n",
              "      box-shadow: 0px 1px 2px rgba(60, 64, 67, 0.3), 0px 1px 3px 1px rgba(60, 64, 67, 0.15);\n",
              "      fill: #174EA6;\n",
              "    }\n",
              "\n",
              "    [theme=dark] .colab-df-convert {\n",
              "      background-color: #3B4455;\n",
              "      fill: #D2E3FC;\n",
              "    }\n",
              "\n",
              "    [theme=dark] .colab-df-convert:hover {\n",
              "      background-color: #434B5C;\n",
              "      box-shadow: 0px 1px 3px 1px rgba(0, 0, 0, 0.15);\n",
              "      filter: drop-shadow(0px 1px 2px rgba(0, 0, 0, 0.3));\n",
              "      fill: #FFFFFF;\n",
              "    }\n",
              "  </style>\n",
              "\n",
              "      <script>\n",
              "        const buttonEl =\n",
              "          document.querySelector('#df-8a00f26b-1cc8-4df5-9e5e-0726245d9393 button.colab-df-convert');\n",
              "        buttonEl.style.display =\n",
              "          google.colab.kernel.accessAllowed ? 'block' : 'none';\n",
              "\n",
              "        async function convertToInteractive(key) {\n",
              "          const element = document.querySelector('#df-8a00f26b-1cc8-4df5-9e5e-0726245d9393');\n",
              "          const dataTable =\n",
              "            await google.colab.kernel.invokeFunction('convertToInteractive',\n",
              "                                                     [key], {});\n",
              "          if (!dataTable) return;\n",
              "\n",
              "          const docLinkHtml = 'Like what you see? Visit the ' +\n",
              "            '<a target=\"_blank\" href=https://colab.research.google.com/notebooks/data_table.ipynb>data table notebook</a>'\n",
              "            + ' to learn more about interactive tables.';\n",
              "          element.innerHTML = '';\n",
              "          dataTable['output_type'] = 'display_data';\n",
              "          await google.colab.output.renderOutput(dataTable, element);\n",
              "          const docLink = document.createElement('div');\n",
              "          docLink.innerHTML = docLinkHtml;\n",
              "          element.appendChild(docLink);\n",
              "        }\n",
              "      </script>\n",
              "    </div>\n",
              "  </div>\n",
              "  "
            ]
          },
          "metadata": {},
          "execution_count": 9
        }
      ]
    },
    {
      "cell_type": "code",
      "source": [
        "from tqdm import tqdm\n",
        "train_x = []\n",
        "test_x = []\n",
        "\n",
        "for i in tqdm(range(1, 335)):\n",
        "    if i % 2 == 1:\n",
        "        df1 = pd.read_csv(f'/content/drive/MyDrive/ed5011/B0005/data/{i:03}_B0005_charge.csv', header = None, names = ['Voltage_measured','Current_measured','Temperature','Current_charger','Voltage_charger','Time'])\n",
        "    elif i % 2 == 0:\n",
        "        df2 = pd.read_csv(f'/content/drive/MyDrive/ed5011/B0005/data/{i:03}_B0005_discharge.csv', header = None, names = ['Voltage_measured','Current_measured','Temperature','Current_charger','Voltage_charger','Time'])\n",
        "        df = pd.concat([df1,df2])\n",
        "\n",
        "        train_x.append(df)\n",
        "    \n",
        "for i in tqdm(range(1, 335)):\n",
        "    if i % 2 == 1:\n",
        "        df1 = pd.read_csv(f'/content/drive/MyDrive/ed5011/B0006/data/{i:03}_B0006_charge.csv', header = None, names = ['Voltage_measured','Current_measured','Temperature','Current_charger','Voltage_charger','Time'])\n",
        "    elif i % 2 == 0:\n",
        "        df2 = pd.read_csv(f'/content/drive/MyDrive/ed5011/B0006/data/{i:03}_B0006_discharge.csv', header = None, names = ['Voltage_measured','Current_measured','Temperature','Current_charger','Voltage_charger','Time'])\n",
        "        df = pd.concat([df1,df2])\n",
        "\n",
        "        train_x.append(df)\n",
        "\n",
        "for i in tqdm(range(1, 265)):\n",
        "    if i % 2 == 1:\n",
        "        df1 = pd.read_csv(f'/content/drive/MyDrive/ed5011/B0018/data/{i:03}_B0018_charge.csv', header = None, names = ['Voltage_measured','Current_measured','Temperature','Current_charger','Voltage_charger','Time'])\n",
        "    elif i % 2 == 0:\n",
        "        df2 = pd.read_csv(f'/content/drive/MyDrive/ed5011/B0018/data/{i:03}_B0018_discharge.csv', header = None, names = ['Voltage_measured','Current_measured','Temperature','Current_charger','Voltage_charger','Time'])\n",
        "        df = pd.concat([df1,df2])\n",
        "\n",
        "        train_x.append(df)\n",
        "\n",
        "for i in tqdm(range(1, 335)):\n",
        "    if i % 2 == 1:\n",
        "        df1 = pd.read_csv(f'/content/drive/MyDrive/ed5011/B0007/data/{i:03}_B0007_charge.csv', header = None, names = ['Voltage_measured','Current_measured','Temperature','Current_charger','Voltage_charger','Time'])\n",
        "    elif i % 2 == 0:\n",
        "        df2 = pd.read_csv(f'/content/drive/MyDrive/ed5011/B0007/data/{i:03}_B0007_discharge.csv', header = None, names = ['Voltage_measured','Current_measured','Temperature','Current_charger','Voltage_charger','Time'])\n",
        "        df = pd.concat([df1,df2])\n",
        "\n",
        "        test_x.append(df)"
      ],
      "metadata": {
        "id": "DscU2u3IRnDL",
        "colab": {
          "base_uri": "https://localhost:8080/"
        },
        "outputId": "123918e4-e149-46b1-d81f-e2d0abda4af4"
      },
      "execution_count": null,
      "outputs": [
        {
          "output_type": "stream",
          "name": "stderr",
          "text": [
            "  6%|▌         | 20/334 [00:05<01:45,  2.98it/s]"
          ]
        }
      ]
    },
    {
      "cell_type": "code",
      "source": [
        "train_x = np.array(train_x)\n",
        "test_x = np.array(test_x)\n",
        "\n",
        "train_x.shape"
      ],
      "metadata": {
        "id": "wQpcxK2tPiQH"
      },
      "execution_count": null,
      "outputs": []
    },
    {
      "cell_type": "code",
      "source": [
        "# Finding the data with maximum length = 4254\n",
        "\n",
        "max = 0\n",
        "for data in train_x:\n",
        "    if len(data) > max:\n",
        "        max = len(data)\n",
        "\n",
        "max"
      ],
      "metadata": {
        "id": "zHwiNsUFTtFZ"
      },
      "execution_count": null,
      "outputs": []
    },
    {
      "cell_type": "code",
      "source": [
        "# Pad data\n",
        "\n",
        "x_train = np.zeros([train_x.shape[0], max, 6])\n",
        "x_test = np.zeros([test_x.shape[0], max, 6])\n",
        "\n",
        "for i, dat_x in enumerate(train_x):\n",
        "    if len(dat_x) <= max:\n",
        "        num = len(dat_x)\n",
        "        x_train[i][-num:] = dat_x\n",
        "    else:\n",
        "        x_train[i] = dat_x[-max:]\n",
        "\n",
        "for i, dat_x in enumerate(test_x):\n",
        "    if len(dat_x) <= max:\n",
        "        num = len(dat_x)\n",
        "        x_test[i][-num:] = dat_x\n",
        "    else:\n",
        "        x_test[i] = dat_x[-max:]\n",
        "\n",
        "print(x_train.shape) # (466, 4254, 6)\n",
        "print(x_test.shape) # (167, 4254, 6)"
      ],
      "metadata": {
        "id": "v3Oz0xLOVOXS"
      },
      "execution_count": null,
      "outputs": []
    },
    {
      "cell_type": "code",
      "source": [
        "# y data\n",
        "df_y1 = pd.read_csv(f'/content/drive/MyDrive/ed5011/B0005/label/label.csv', header = None)\n",
        "df_y2 = pd.read_csv(f'/content/drive/MyDrive/ed5011/B0006/label/label_B0006.csv', header = None)\n",
        "df_y3 = pd.read_csv(f'/content/drive/MyDrive/ed5011/B0018/label/label_B0018.csv', header = None)\n",
        "df_y4 = pd.read_csv(f'/content/drive/MyDrive/ed5011/B0007/label/label_B0007.csv', header = None)\n",
        "\n",
        "df_y = pd.concat([df_y1, df_y2, df_y3])\n",
        "y_train = np.array(df_y)\n",
        "y_test = np.array(df_y4)\n",
        "\n",
        "print(y_train.shape) # (466, 1)\n",
        "print(y_test.shape) # (167, 1)"
      ],
      "metadata": {
        "id": "QwS3VB-DYEbm"
      },
      "execution_count": null,
      "outputs": []
    },
    {
      "cell_type": "code",
      "source": [
        "x_train, x_val, y_train, y_val = train_test_split(x_train, y_train, train_size = 0.8, random_state= 0, shuffle = True)"
      ],
      "metadata": {
        "id": "JKJNW1oIhpcc"
      },
      "execution_count": null,
      "outputs": []
    },
    {
      "cell_type": "markdown",
      "source": [],
      "metadata": {
        "id": "yZJZMTffZdnQ"
      }
    },
    {
      "cell_type": "code",
      "source": [
        "model = Sequential()\n",
        "model.add(LSTM(64, input_shape=(x_train.shape[1:])))\n",
        "model.add(Dropout(0.2))\n",
        "model.add(Dense(32, activation = 'relu'))\n",
        "model.add(Dropout(0.2))\n",
        "\n",
        "model.add(Dense(1))"
      ],
      "metadata": {
        "id": "OJJWirhZYeuC"
      },
      "execution_count": null,
      "outputs": []
    },
    {
      "cell_type": "code",
      "source": [
        "model.summary()"
      ],
      "metadata": {
        "id": "Lw9KsiYTZn4W"
      },
      "execution_count": null,
      "outputs": []
    },
    {
      "cell_type": "code",
      "source": [
        "with tf.device('/device:GPU:0'):  \n",
        "    optim = tf.keras.optimizers.Adam(lr = 1e-3, decay = 1e-5)\n",
        "\n",
        "    model.compile(loss = 'mse', optimizer = optim, metrics = [tf.keras.metrics.RootMeanSquaredError()])\n",
        "    history = model.fit(x_train, y_train, epochs = 150, batch_size = 20, verbose = 1)"
      ],
      "metadata": {
        "id": "i5r3quD-aZ9I"
      },
      "execution_count": null,
      "outputs": []
    },
    {
      "cell_type": "code",
      "source": [
        "model.evaluate(x_test, y_test, batch_size = 20)"
      ],
      "metadata": {
        "id": "PTvCX1q9cl15"
      },
      "execution_count": null,
      "outputs": []
    },
    {
      "cell_type": "code",
      "source": [
        "import matplotlib.pyplot as plt\n",
        "\n",
        "plt.plot(history.history['loss'])\n",
        "plt.plot(history.history['root_mean_squared_error'])\n",
        "\n",
        "plt.title('model loss')\n",
        "plt.ylabel('loss')\n",
        "plt.xlabel('epoch')\n",
        "plt.legend(['rmse', 'mse'], loc='upper left')\n",
        "plt.show()"
      ],
      "metadata": {
        "id": "Os4j0vOgi_ji"
      },
      "execution_count": null,
      "outputs": []
    },
    {
      "cell_type": "code",
      "source": [
        "y_pred = model.predict(x_test)\n",
        "print(y_pred[:10])\n",
        "\n",
        "print(\"\\n\")\n",
        "\n",
        "y_actual = y_test[:10]\n",
        "print(y_actual)"
      ],
      "metadata": {
        "id": "lDH14rc9kxbj"
      },
      "execution_count": null,
      "outputs": []
    },
    {
      "cell_type": "code",
      "source": [
        "y_pred = model.predict(x_test)\n",
        "\n",
        "y_pred_print = y_pred / y_test[0]\n",
        "y_test_print = y_test / y_test[0]\n",
        "\n",
        "plt.plot(y_pred_print)\n",
        "plt.plot(y_test_print)\n",
        "\n",
        "plt.title('LSTM, Epoch 150, batch size 20')\n",
        "plt.ylabel('SoH')\n",
        "plt.xlabel('Cycle')\n",
        "plt.legend(['Prediction Data','Actual Data'], loc = 'upper right')\n"
      ],
      "metadata": {
        "id": "rwegfXwUSeIW"
      },
      "execution_count": null,
      "outputs": []
    },
    {
      "cell_type": "code",
      "source": [
        "y_diff = y_pred - y_test\n",
        "percent = 0\n",
        "for i in range(len(y_test)):\n",
        "    percent += y_diff[i]/y_test[i]*100\n",
        "\n",
        "percent = percent /len(y_test)\n",
        "percent"
      ],
      "metadata": {
        "id": "3OJx9JhRr3R2"
      },
      "execution_count": null,
      "outputs": []
    }
  ]
}