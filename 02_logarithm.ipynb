{
  "nbformat": 4,
  "nbformat_minor": 0,
  "metadata": {
    "colab": {
      "provenance": [],
      "authorship_tag": "ABX9TyNhREGLmP4IMInFEPkgLpCB",
      "include_colab_link": true
    },
    "kernelspec": {
      "name": "python3",
      "display_name": "Python 3"
    },
    "language_info": {
      "name": "python"
    },
    "gpuClass": "standard"
  },
  "cells": [
    {
      "cell_type": "markdown",
      "metadata": {
        "id": "view-in-github",
        "colab_type": "text"
      },
      "source": [
        "<a href=\"https://colab.research.google.com/github/dongjaeseo/AI_Maths/blob/main/02_logarithm.ipynb\" target=\"_parent\"><img src=\"https://colab.research.google.com/assets/colab-badge.svg\" alt=\"Open In Colab\"/></a>"
      ]
    },
    {
      "cell_type": "markdown",
      "source": [
        "Definition of log function\n",
        "\n",
        "n = loga (b)\n",
        "\n",
        "a^n = b \n"
      ],
      "metadata": {
        "id": "2YQ2EB7TgTh6"
      }
    },
    {
      "cell_type": "markdown",
      "source": [
        "Property of logarithm:\n",
        "\n",
        "1) log xy = log x + log y\n",
        "\n",
        "2) log (a^n) = n log a\n",
        "\n",
        "3) log(a^m) (x) = (1/m) loga (x)\n",
        "\n",
        "4) loga (b) = 1 / log b (a)\n",
        "\n",
        "5) loga (b) = logc (b) / logc (a)\n",
        "\n",
        "6) a^loga (x) = x\n",
        "\n",
        "7) a^logb (c) = c^logb (a)"
      ],
      "metadata": {
        "id": "2371k_1vgxwf"
      }
    },
    {
      "cell_type": "code",
      "source": [
        "import numpy as np\n",
        "import math"
      ],
      "metadata": {
        "id": "Uf1XYZtqjpFo"
      },
      "execution_count": 13,
      "outputs": []
    },
    {
      "cell_type": "code",
      "execution_count": 16,
      "metadata": {
        "id": "qBnDvEKHgN_N"
      },
      "outputs": [],
      "source": [
        "a = 2\n",
        "b = 9\n",
        "c = 10\n",
        "\n",
        "m = 3\n",
        "n = 4\n",
        "x = 5\n",
        "y = 8"
      ]
    },
    {
      "cell_type": "code",
      "source": [
        "#1 log xy = log x + log y\n",
        "assert np.log(x*y) - ( np.log(x) + np.log(y) ) < 1e-5"
      ],
      "metadata": {
        "id": "dwk0BrWQj0Zu"
      },
      "execution_count": 17,
      "outputs": []
    },
    {
      "cell_type": "code",
      "source": [
        "#2 log (a^n) = n log a\n",
        "assert np.log(a**n) - n * np.log(a) < 1e-5"
      ],
      "metadata": {
        "id": "-oeQXhaMkIam"
      },
      "execution_count": 25,
      "outputs": []
    },
    {
      "cell_type": "code",
      "source": [
        "#3 log(a^m) (x) = (1/m) loga (x)\n",
        "assert math.log(x, a**m) - (1./m) * math.log(x, a) < 1e-5"
      ],
      "metadata": {
        "id": "XSqYXIbrkbgl"
      },
      "execution_count": 29,
      "outputs": []
    },
    {
      "cell_type": "code",
      "source": [
        "#4 loga (b) = 1 / log b (a)\n",
        "assert math.log(b, a) - 1./ math.log(a, b) < 1e-5"
      ],
      "metadata": {
        "id": "9d9fOfQqkk2M"
      },
      "execution_count": 30,
      "outputs": []
    },
    {
      "cell_type": "code",
      "source": [
        "#5 loga (b) = logc (b) / logc (a)\n",
        "assert math.log(b, a) - math.log(b, c) / math.log(a, c) < 1e-5"
      ],
      "metadata": {
        "id": "vRosxccBmJgJ"
      },
      "execution_count": 31,
      "outputs": []
    },
    {
      "cell_type": "code",
      "source": [
        "#6 a^loga (x) = x\n",
        "assert a* math.log(x, a) - x < 1e-5"
      ],
      "metadata": {
        "id": "dZyK1i4KmWM9"
      },
      "execution_count": 32,
      "outputs": []
    },
    {
      "cell_type": "code",
      "source": [
        "#7 a^logb (c) = c^logb (a)\n",
        "assert a* math.log(c, b) - c* math.log(a, b) < 1e-5"
      ],
      "metadata": {
        "id": "CldSOLzAmdau"
      },
      "execution_count": 33,
      "outputs": []
    }
  ]
}